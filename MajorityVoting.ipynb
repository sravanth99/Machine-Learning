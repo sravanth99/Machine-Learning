{
 "cells": [
  {
   "cell_type": "code",
   "execution_count": 1,
   "metadata": {},
   "outputs": [],
   "source": [
    "# Helper classes and data\n",
    "from sklearn import datasets\n",
    "from sklearn.model_selection import train_test_split as tts\n",
    "from sklearn.preprocessing import StandardScaler\n",
    "#from sklearn.preprocessing import LabelEncoder\n",
    "from sklearn.ensemble import VotingClassifier"
   ]
  },
  {
   "cell_type": "code",
   "execution_count": 2,
   "metadata": {},
   "outputs": [],
   "source": [
    "Iris_data = datasets.load_iris()"
   ]
  },
  {
   "cell_type": "code",
   "execution_count": 3,
   "metadata": {},
   "outputs": [
    {
     "name": "stdout",
     "output_type": "stream",
     "text": [
      "(150, 4)\n"
     ]
    }
   ],
   "source": [
    "X, y = Iris_data.data, Iris_data.target\n",
    "print(X.shape)"
   ]
  },
  {
   "cell_type": "code",
   "execution_count": 4,
   "metadata": {},
   "outputs": [],
   "source": [
    "X_train,X_test,y_train,y_test = tts(X,y,stratify = y,test_size=0.5,random_state=1)"
   ]
  },
  {
   "cell_type": "code",
   "execution_count": 5,
   "metadata": {},
   "outputs": [
    {
     "data": {
      "text/plain": [
       "(75, 4)"
      ]
     },
     "execution_count": 5,
     "metadata": {},
     "output_type": "execute_result"
    }
   ],
   "source": [
    "X_train.shape"
   ]
  },
  {
   "cell_type": "code",
   "execution_count": 6,
   "metadata": {},
   "outputs": [],
   "source": [
    "# Classifiers\n",
    "from sklearn.linear_model import LogisticRegression\n",
    "from sklearn.tree import DecisionTreeClassifier\n",
    "from sklearn.svm import SVC\n",
    "from sklearn.neighbors import KNeighborsClassifier\n",
    "# Pipeline and validation\n",
    "from sklearn.pipeline import Pipeline\n",
    "from sklearn.model_selection import cross_val_score\n",
    "# numpy\n",
    "import numpy as np\n",
    "# Since it is a multiclass classification let's imports binerizerabs\n",
    "from sklearn.preprocessing import label_binarize\n",
    "from sklearn.metrics import make_scorer\n",
    "from sklearn.metrics import roc_auc_score\n",
    "y_train_bin = label_binarize(y_train,classes = [0,1,2]) \n",
    "multi_roc = make_scorer(score_func=roc_auc_score)"
   ]
  },
  {
   "cell_type": "code",
   "execution_count": 45,
   "metadata": {},
   "outputs": [],
   "source": [
    "#We have 4 classifiers here\n",
    "clf1 = LogisticRegression(penalty='l2',random_state=1,C = 0.001,solver='lbfgs',multi_class='auto')\n",
    "clf2 = DecisionTreeClassifier(random_state=1,max_depth=None,criterion='gini')\n",
    "clf3 = KNeighborsClassifier(n_neighbors=3,p=2,metric='minkowski')\n",
    "clf4 = SVC(kernel='rbf',probability=True)"
   ]
  },
  {
   "cell_type": "code",
   "execution_count": 46,
   "metadata": {},
   "outputs": [],
   "source": [
    "#Pipelines\n",
    "Pipe_Log = Pipeline([\n",
    "    ['sc',StandardScaler()],\n",
    "    ['Log_Reg',clf1]\n",
    "])\n",
    "Pipe_svc = Pipeline([\n",
    "    ['sc',StandardScaler()],\n",
    "    ['svc',clf4]\n",
    "])\n",
    "Pipe_Knn = Pipeline([\n",
    "    ['sc',StandardScaler()],\n",
    "    ['knn',clf3]\n",
    "])"
   ]
  },
  {
   "cell_type": "code",
   "execution_count": 47,
   "metadata": {},
   "outputs": [
    {
     "name": "stdout",
     "output_type": "stream",
     "text": [
      "(75, 4) (75, 3)\n"
     ]
    }
   ],
   "source": [
    "clf_labels = ['Logistic Regression','Decision Tree','Knn','SVM']\n",
    "print(X_train.shape,y_train_bin.shape)"
   ]
  },
  {
   "cell_type": "code",
   "execution_count": 10,
   "metadata": {},
   "outputs": [],
   "source": [
    "y_preds_list = {}\n",
    "from sklearn.model_selection import cross_val_predict\n",
    "for clf, label in zip([Pipe_Log,clf2,Pipe_Knn,Pipe_svc],clf_labels):\n",
    "    predictions = cross_val_predict(estimator=clf,X=X_train,y=y_train,cv=10)        \n",
    "    y_preds_list['{}'.format(label)] = predictions"
   ]
  },
  {
   "cell_type": "code",
   "execution_count": 48,
   "metadata": {},
   "outputs": [],
   "source": [
    "Bin_lab_dict ={}\n",
    "for key,values in y_preds_list.items():\n",
    "    Bin_lab_dict[key] = label_binarize(values,classes=[0,1,2])"
   ]
  },
  {
   "cell_type": "code",
   "execution_count": 49,
   "metadata": {},
   "outputs": [],
   "source": [
    "# Binarized labels to get the roc_auc values\n",
    "ROC_AUC ={}\n",
    "for key in Bin_lab_dict.keys():\n",
    "    label_scores = []\n",
    "    y_cal = Bin_lab_dict[key]\n",
    "    for i in range(3):\n",
    "        auc_score = roc_auc_score(y_train_bin[:,i],y_cal[:,i])\n",
    "        label_scores.append(auc_score)\n",
    "    ROC_AUC[key] = label_scores"
   ]
  },
  {
   "cell_type": "code",
   "execution_count": 50,
   "metadata": {},
   "outputs": [
    {
     "name": "stdout",
     "output_type": "stream",
     "text": [
      "AUC_ROC of Logistic Regression : 0.88 +/- 0.09416297927883689\n",
      "AUC_ROC of Decision Tree : 0.93 +/- 0.04966554808583782\n",
      "AUC_ROC of Knn : 0.94 +/- 0.04242640687119289\n",
      "AUC_ROC of SVM : 0.93 +/- 0.04082482904638629\n",
      "AUC_ROC of VotingClassifier(estimators=[('Pipe_Log',\n",
      "                              Pipeline(memory=None,\n",
      "                                       steps=[['sc',\n",
      "                                               StandardScaler(copy=True,\n",
      "                                                              with_mean=True,\n",
      "                                                              with_std=True)],\n",
      "                                              ['Log_Reg',\n",
      "                                               LogisticRegression(C=0.001,\n",
      "                                                                  class_weight=None,\n",
      "                                                                  dual=False,\n",
      "                                                                  fit_intercept=True,\n",
      "                                                                  intercept_scaling=1,\n",
      "                                                                  l1_ratio=None,\n",
      "                                                                  max_iter=100,\n",
      "                                                                  multi_class='auto',\n",
      "                                                                  n_jobs=None,\n",
      "                                                                  penalty='l2',\n",
      "                                                                  random_state=1,\n",
      "                                                                  solver='lbfgs',\n",
      "                                                                  tol=0.0001,\n",
      "                                                                  v...\n",
      "                                               StandardScaler(copy=True,\n",
      "                                                              with_mean=True,\n",
      "                                                              with_std=True)],\n",
      "                                              ['svc',\n",
      "                                               SVC(C=1.0, cache_size=200,\n",
      "                                                   class_weight=None, coef0=0.0,\n",
      "                                                   decision_function_shape='ovr',\n",
      "                                                   degree=3,\n",
      "                                                   gamma='auto_deprecated',\n",
      "                                                   kernel='rbf', max_iter=-1,\n",
      "                                                   probability=False,\n",
      "                                                   random_state=None,\n",
      "                                                   shrinking=True, tol=0.001,\n",
      "                                                   verbose=False)]],\n",
      "                                       verbose=False))],\n",
      "                 flatten_transform=True, n_jobs=None, voting='hard',\n",
      "                 weights=None) : 0.93 +/- 0.04966554808583782\n",
      "AUC_ROC of voting_clf : 0.93 +/- 0.04966554808583782\n"
     ]
    }
   ],
   "source": [
    "for label , values in ROC_AUC.items():\n",
    "    print('AUC_ROC of {} : {} +/- {}'.format(label,np.mean(values),np.std(values)))"
   ]
  },
  {
   "cell_type": "code",
   "execution_count": 51,
   "metadata": {},
   "outputs": [],
   "source": [
    "Voting_clf = VotingClassifier(estimators=[('Pipe_Log',Pipe_Log),('clf2',clf2),\n",
    "                                          ('Pipe_Knn',Pipe_Knn),('Pipe_svc',Pipe_svc)],\n",
    "                                          voting='soft'\n",
    "                                         )"
   ]
  },
  {
   "cell_type": "code",
   "execution_count": 52,
   "metadata": {},
   "outputs": [],
   "source": [
    "predictions = cross_val_predict(estimator=Voting_clf,X=X_train,y=y_train,cv=10)        \n",
    "y_preds_list['voting_clf'] = predictions"
   ]
  },
  {
   "cell_type": "code",
   "execution_count": 53,
   "metadata": {},
   "outputs": [],
   "source": [
    "Bin_lab_dict['voting_clf'] = label_binarize(y_preds_list['voting_clf'],classes=[0,1,2])"
   ]
  },
  {
   "cell_type": "code",
   "execution_count": 54,
   "metadata": {},
   "outputs": [],
   "source": [
    "label_scores = []\n",
    "y_cal = Bin_lab_dict['voting_clf']\n",
    "for i in range(3):\n",
    "    auc_score = roc_auc_score(y_train_bin[:,i],y_cal[:,i])\n",
    "    label_scores.append(auc_score)\n",
    "ROC_AUC['voting_clf'] = label_scores"
   ]
  },
  {
   "cell_type": "code",
   "execution_count": 55,
   "metadata": {},
   "outputs": [
    {
     "name": "stdout",
     "output_type": "stream",
     "text": [
      "AUC_ROC of Logistic Regression : 0.88 +/- 0.09416297927883689\n",
      "AUC_ROC of Decision Tree : 0.93 +/- 0.04966554808583782\n",
      "AUC_ROC of Knn : 0.94 +/- 0.04242640687119289\n",
      "AUC_ROC of SVM : 0.93 +/- 0.04082482904638629\n",
      "AUC_ROC of VotingClassifier(estimators=[('Pipe_Log',\n",
      "                              Pipeline(memory=None,\n",
      "                                       steps=[['sc',\n",
      "                                               StandardScaler(copy=True,\n",
      "                                                              with_mean=True,\n",
      "                                                              with_std=True)],\n",
      "                                              ['Log_Reg',\n",
      "                                               LogisticRegression(C=0.001,\n",
      "                                                                  class_weight=None,\n",
      "                                                                  dual=False,\n",
      "                                                                  fit_intercept=True,\n",
      "                                                                  intercept_scaling=1,\n",
      "                                                                  l1_ratio=None,\n",
      "                                                                  max_iter=100,\n",
      "                                                                  multi_class='auto',\n",
      "                                                                  n_jobs=None,\n",
      "                                                                  penalty='l2',\n",
      "                                                                  random_state=1,\n",
      "                                                                  solver='lbfgs',\n",
      "                                                                  tol=0.0001,\n",
      "                                                                  v...\n",
      "                                               StandardScaler(copy=True,\n",
      "                                                              with_mean=True,\n",
      "                                                              with_std=True)],\n",
      "                                              ['svc',\n",
      "                                               SVC(C=1.0, cache_size=200,\n",
      "                                                   class_weight=None, coef0=0.0,\n",
      "                                                   decision_function_shape='ovr',\n",
      "                                                   degree=3,\n",
      "                                                   gamma='auto_deprecated',\n",
      "                                                   kernel='rbf', max_iter=-1,\n",
      "                                                   probability=False,\n",
      "                                                   random_state=None,\n",
      "                                                   shrinking=True, tol=0.001,\n",
      "                                                   verbose=False)]],\n",
      "                                       verbose=False))],\n",
      "                 flatten_transform=True, n_jobs=None, voting='hard',\n",
      "                 weights=None) : 0.93 +/- 0.04966554808583782\n",
      "AUC_ROC of voting_clf : 0.93 +/- 0.04966554808583782\n"
     ]
    }
   ],
   "source": [
    "for label , values in ROC_AUC.items():\n",
    "    print('AUC_ROC of {} : {} +/- {}'.format(label,np.mean(values),np.std(values)))"
   ]
  },
  {
   "cell_type": "code",
   "execution_count": 34,
   "metadata": {},
   "outputs": [
    {
     "data": {
      "text/plain": [
       "<bound method _BaseVoting.get_params of VotingClassifier(estimators=[('Pipe_Log',\n",
       "                              Pipeline(memory=None,\n",
       "                                       steps=[['sc',\n",
       "                                               StandardScaler(copy=True,\n",
       "                                                              with_mean=True,\n",
       "                                                              with_std=True)],\n",
       "                                              ['Log_Reg',\n",
       "                                               LogisticRegression(C=0.001,\n",
       "                                                                  class_weight=None,\n",
       "                                                                  dual=False,\n",
       "                                                                  fit_intercept=True,\n",
       "                                                                  intercept_scaling=1,\n",
       "                                                                  l1_ratio=None,\n",
       "                                                                  max_iter=100,\n",
       "                                                                  multi_class='auto',\n",
       "                                                                  n_jobs=None,\n",
       "                                                                  penalty='l2',\n",
       "                                                                  random_state=1,\n",
       "                                                                  solver='lbfgs',\n",
       "                                                                  tol=0.0001,\n",
       "                                                                  v...\n",
       "                                               StandardScaler(copy=True,\n",
       "                                                              with_mean=True,\n",
       "                                                              with_std=True)],\n",
       "                                              ['svc',\n",
       "                                               SVC(C=1.0, cache_size=200,\n",
       "                                                   class_weight=None, coef0=0.0,\n",
       "                                                   decision_function_shape='ovr',\n",
       "                                                   degree=3,\n",
       "                                                   gamma='auto_deprecated',\n",
       "                                                   kernel='rbf', max_iter=-1,\n",
       "                                                   probability=False,\n",
       "                                                   random_state=None,\n",
       "                                                   shrinking=True, tol=0.001,\n",
       "                                                   verbose=False)]],\n",
       "                                       verbose=False))],\n",
       "                 flatten_transform=True, n_jobs=None, voting='hard',\n",
       "                 weights=None)>"
      ]
     },
     "execution_count": 34,
     "metadata": {},
     "output_type": "execute_result"
    }
   ],
   "source": [
    "Voting_clf.get_params"
   ]
  },
  {
   "cell_type": "code",
   "execution_count": 57,
   "metadata": {},
   "outputs": [
    {
     "data": {
      "text/plain": [
       "VotingClassifier(estimators=[('Pipe_Log',\n",
       "                              Pipeline(memory=None,\n",
       "                                       steps=[['sc',\n",
       "                                               StandardScaler(copy=True,\n",
       "                                                              with_mean=True,\n",
       "                                                              with_std=True)],\n",
       "                                              ['Log_Reg',\n",
       "                                               LogisticRegression(C=0.001,\n",
       "                                                                  class_weight=None,\n",
       "                                                                  dual=False,\n",
       "                                                                  fit_intercept=True,\n",
       "                                                                  intercept_scaling=1,\n",
       "                                                                  l1_ratio=None,\n",
       "                                                                  max_iter=100,\n",
       "                                                                  multi_class='auto',\n",
       "                                                                  n_jobs=None,\n",
       "                                                                  penalty='l2',\n",
       "                                                                  random_state=1,\n",
       "                                                                  solver='lbfgs',\n",
       "                                                                  tol=0.0001,\n",
       "                                                                  v...\n",
       "                                               StandardScaler(copy=True,\n",
       "                                                              with_mean=True,\n",
       "                                                              with_std=True)],\n",
       "                                              ['svc',\n",
       "                                               SVC(C=1.0, cache_size=200,\n",
       "                                                   class_weight=None, coef0=0.0,\n",
       "                                                   decision_function_shape='ovr',\n",
       "                                                   degree=3,\n",
       "                                                   gamma='auto_deprecated',\n",
       "                                                   kernel='rbf', max_iter=-1,\n",
       "                                                   probability=True,\n",
       "                                                   random_state=None,\n",
       "                                                   shrinking=True, tol=0.001,\n",
       "                                                   verbose=False)]],\n",
       "                                       verbose=False))],\n",
       "                 flatten_transform=True, n_jobs=None, voting='soft',\n",
       "                 weights=None)"
      ]
     },
     "execution_count": 57,
     "metadata": {},
     "output_type": "execute_result"
    }
   ],
   "source": [
    "Voting_clf.fit(X_train,y_train)"
   ]
  },
  {
   "cell_type": "code",
   "execution_count": 58,
   "metadata": {},
   "outputs": [],
   "source": [
    "y_pred_proba = Voting_clf.predict_proba(X_train)"
   ]
  },
  {
   "cell_type": "code",
   "execution_count": 72,
   "metadata": {},
   "outputs": [],
   "source": [
    "roc_auc_score?"
   ]
  },
  {
   "cell_type": "code",
   "execution_count": null,
   "metadata": {},
   "outputs": [],
   "source": [
    "! conda update scikit-learn"
   ]
  },
  {
   "cell_type": "code",
   "execution_count": null,
   "metadata": {},
   "outputs": [],
   "source": []
  }
 ],
 "metadata": {
  "kernelspec": {
   "display_name": "Python 3",
   "language": "python",
   "name": "python3"
  },
  "language_info": {
   "codemirror_mode": {
    "name": "ipython",
    "version": 3
   },
   "file_extension": ".py",
   "mimetype": "text/x-python",
   "name": "python",
   "nbconvert_exporter": "python",
   "pygments_lexer": "ipython3",
   "version": "3.7.3"
  }
 },
 "nbformat": 4,
 "nbformat_minor": 2
}
