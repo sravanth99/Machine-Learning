{
 "cells": [
  {
   "cell_type": "code",
   "execution_count": 18,
   "metadata": {},
   "outputs": [],
   "source": [
    "import numpy as np\n",
    "import os"
   ]
  },
  {
   "cell_type": "code",
   "execution_count": 19,
   "metadata": {},
   "outputs": [
    {
     "name": "stdout",
     "output_type": "stream",
     "text": [
      "['imdb.vocab', 'imdbEr.txt', 'README', 'test', 'train']\n"
     ]
    }
   ],
   "source": [
    "Path = '../Data/aclImdb/'\n",
    "print(os.listdir(path=Path))"
   ]
  },
  {
   "cell_type": "code",
   "execution_count": 20,
   "metadata": {},
   "outputs": [],
   "source": [
    "#Let's create a data frame\n",
    "import pandas as pd\n",
    "df = pd.DataFrame()"
   ]
  },
  {
   "cell_type": "code",
   "execution_count": 21,
   "metadata": {},
   "outputs": [],
   "source": [
    "# we have two folders test and train\n",
    "df_cols = []\n",
    "labels = {'pos':1,'neg':0}\n",
    "for folder in ('train','test'): # one folder at a time\n",
    "    for fold2 in ('pos','neg'):\n",
    "        fold_path = os.path.join(Path,folder,fold2)\n",
    "        for file in os.listdir(fold_path):\n",
    "            with open(os.path.join(fold_path,file),'r',encoding='utf-8') as f:\n",
    "                txt = f.read()\n",
    "                df = df.append([[txt,labels[fold2]]],ignore_index=True)"
   ]
  },
  {
   "cell_type": "code",
   "execution_count": 22,
   "metadata": {},
   "outputs": [
    {
     "name": "stdout",
     "output_type": "stream",
     "text": [
      "                                              review  sentiment\n",
      "0  Bromwell High is a cartoon comedy. It ran at t...          1\n",
      "1  Homelessness (or Houselessness as George Carli...          1\n",
      "2  Brilliant over-acting by Lesley Ann Warren. Be...          1\n",
      "3  This is easily the most underrated film inn th...          1\n",
      "4  This is not the typical Mel Brooks film. It wa...          1\n",
      "************************\n",
      "                                                  review  sentiment\n",
      "49995  I occasionally let my kids watch this garbage ...          0\n",
      "49996  When all we have anymore is pretty much realit...          0\n",
      "49997  The basic genre is a thriller intercut with an...          0\n",
      "49998  Four things intrigued me as to this film - fir...          0\n",
      "49999  David Bryce's comments nearby are exceptionall...          0\n"
     ]
    }
   ],
   "source": [
    "df.columns = ['review','sentiment']\n",
    "print(df.head())\n",
    "print('************************')\n",
    "print(df.tail())"
   ]
  },
  {
   "cell_type": "code",
   "execution_count": 24,
   "metadata": {},
   "outputs": [],
   "source": [
    "df.to_csv('imdb.csv',index=False)\n",
    "# Let's write to a csv file using the data frame df."
   ]
  },
  {
   "cell_type": "code",
   "execution_count": null,
   "metadata": {},
   "outputs": [],
   "source": []
  }
 ],
 "metadata": {
  "kernelspec": {
   "display_name": "Python 3",
   "language": "python",
   "name": "python3"
  },
  "language_info": {
   "codemirror_mode": {
    "name": "ipython",
    "version": 3
   },
   "file_extension": ".py",
   "mimetype": "text/x-python",
   "name": "python",
   "nbconvert_exporter": "python",
   "pygments_lexer": "ipython3",
   "version": "3.7.3"
  }
 },
 "nbformat": 4,
 "nbformat_minor": 2
}
