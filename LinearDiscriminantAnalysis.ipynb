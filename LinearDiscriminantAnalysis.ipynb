{
 "cells": [
  {
   "cell_type": "code",
   "execution_count": 2,
   "metadata": {},
   "outputs": [],
   "source": [
    "import pandas as pd\n",
    "import numpy as np\n",
    "from sklearn.preprocessing import StandardScaler"
   ]
  },
  {
   "cell_type": "code",
   "execution_count": 3,
   "metadata": {},
   "outputs": [
    {
     "data": {
      "text/html": [
       "<div>\n",
       "<style scoped>\n",
       "    .dataframe tbody tr th:only-of-type {\n",
       "        vertical-align: middle;\n",
       "    }\n",
       "\n",
       "    .dataframe tbody tr th {\n",
       "        vertical-align: top;\n",
       "    }\n",
       "\n",
       "    .dataframe thead th {\n",
       "        text-align: right;\n",
       "    }\n",
       "</style>\n",
       "<table border=\"1\" class=\"dataframe\">\n",
       "  <thead>\n",
       "    <tr style=\"text-align: right;\">\n",
       "      <th></th>\n",
       "      <th>Unnamed: 0</th>\n",
       "      <th>Alcohol</th>\n",
       "      <th>Malic acid</th>\n",
       "      <th>Ash</th>\n",
       "      <th>Alcalinity of ash</th>\n",
       "      <th>Magnesium</th>\n",
       "      <th>Total phenols</th>\n",
       "      <th>Flavanoids</th>\n",
       "      <th>Nonflavanoid phenols</th>\n",
       "      <th>Proanthocyanins</th>\n",
       "      <th>Color intensity</th>\n",
       "      <th>Hue</th>\n",
       "      <th>OD280/OD315 of diluted wines</th>\n",
       "      <th>Proline</th>\n",
       "    </tr>\n",
       "  </thead>\n",
       "  <tbody>\n",
       "    <tr>\n",
       "      <td>0</td>\n",
       "      <td>0</td>\n",
       "      <td>13.58</td>\n",
       "      <td>2.58</td>\n",
       "      <td>2.69</td>\n",
       "      <td>24.5</td>\n",
       "      <td>105.0</td>\n",
       "      <td>1.55</td>\n",
       "      <td>0.84</td>\n",
       "      <td>0.39</td>\n",
       "      <td>1.54</td>\n",
       "      <td>8.66</td>\n",
       "      <td>0.74</td>\n",
       "      <td>1.80</td>\n",
       "      <td>750.0</td>\n",
       "    </tr>\n",
       "    <tr>\n",
       "      <td>1</td>\n",
       "      <td>1</td>\n",
       "      <td>13.16</td>\n",
       "      <td>2.36</td>\n",
       "      <td>2.67</td>\n",
       "      <td>18.6</td>\n",
       "      <td>101.0</td>\n",
       "      <td>2.80</td>\n",
       "      <td>3.24</td>\n",
       "      <td>0.30</td>\n",
       "      <td>2.81</td>\n",
       "      <td>5.68</td>\n",
       "      <td>1.03</td>\n",
       "      <td>3.17</td>\n",
       "      <td>1185.0</td>\n",
       "    </tr>\n",
       "    <tr>\n",
       "      <td>2</td>\n",
       "      <td>2</td>\n",
       "      <td>13.23</td>\n",
       "      <td>3.30</td>\n",
       "      <td>2.28</td>\n",
       "      <td>18.5</td>\n",
       "      <td>98.0</td>\n",
       "      <td>1.80</td>\n",
       "      <td>0.83</td>\n",
       "      <td>0.61</td>\n",
       "      <td>1.87</td>\n",
       "      <td>10.52</td>\n",
       "      <td>0.56</td>\n",
       "      <td>1.51</td>\n",
       "      <td>675.0</td>\n",
       "    </tr>\n",
       "    <tr>\n",
       "      <td>3</td>\n",
       "      <td>3</td>\n",
       "      <td>12.04</td>\n",
       "      <td>4.30</td>\n",
       "      <td>2.38</td>\n",
       "      <td>22.0</td>\n",
       "      <td>80.0</td>\n",
       "      <td>2.10</td>\n",
       "      <td>1.75</td>\n",
       "      <td>0.42</td>\n",
       "      <td>1.35</td>\n",
       "      <td>2.60</td>\n",
       "      <td>0.79</td>\n",
       "      <td>2.57</td>\n",
       "      <td>580.0</td>\n",
       "    </tr>\n",
       "    <tr>\n",
       "      <td>4</td>\n",
       "      <td>4</td>\n",
       "      <td>12.70</td>\n",
       "      <td>3.55</td>\n",
       "      <td>2.36</td>\n",
       "      <td>21.5</td>\n",
       "      <td>106.0</td>\n",
       "      <td>1.70</td>\n",
       "      <td>1.20</td>\n",
       "      <td>0.17</td>\n",
       "      <td>0.84</td>\n",
       "      <td>5.00</td>\n",
       "      <td>0.78</td>\n",
       "      <td>1.29</td>\n",
       "      <td>600.0</td>\n",
       "    </tr>\n",
       "  </tbody>\n",
       "</table>\n",
       "</div>"
      ],
      "text/plain": [
       "   Unnamed: 0  Alcohol  Malic acid   Ash  Alcalinity of ash  Magnesium  \\\n",
       "0           0    13.58        2.58  2.69               24.5      105.0   \n",
       "1           1    13.16        2.36  2.67               18.6      101.0   \n",
       "2           2    13.23        3.30  2.28               18.5       98.0   \n",
       "3           3    12.04        4.30  2.38               22.0       80.0   \n",
       "4           4    12.70        3.55  2.36               21.5      106.0   \n",
       "\n",
       "   Total phenols  Flavanoids  Nonflavanoid phenols  Proanthocyanins  \\\n",
       "0           1.55        0.84                  0.39             1.54   \n",
       "1           2.80        3.24                  0.30             2.81   \n",
       "2           1.80        0.83                  0.61             1.87   \n",
       "3           2.10        1.75                  0.42             1.35   \n",
       "4           1.70        1.20                  0.17             0.84   \n",
       "\n",
       "   Color intensity   Hue  OD280/OD315 of diluted wines  Proline  \n",
       "0             8.66  0.74                          1.80    750.0  \n",
       "1             5.68  1.03                          3.17   1185.0  \n",
       "2            10.52  0.56                          1.51    675.0  \n",
       "3             2.60  0.79                          2.57    580.0  \n",
       "4             5.00  0.78                          1.29    600.0  "
      ]
     },
     "execution_count": 3,
     "metadata": {},
     "output_type": "execute_result"
    }
   ],
   "source": [
    "# Let's use the wine data note that we already split the data into train and test before\n",
    "X_train = pd.read_csv('X_train_df.csv')\n",
    "X_test  = pd.read_csv('X_test_df.csv')\n",
    "y_train = pd.read_csv('y_train_df.csv')\n",
    "y_test  = pd.read_csv('y_test_df.csv')\n",
    "X_train.head()"
   ]
  },
  {
   "cell_type": "code",
   "execution_count": 4,
   "metadata": {},
   "outputs": [],
   "source": [
    "#Converting to arrays\n",
    "X_train = X_train.values[:,1:]\n",
    "X_test = X_test.values[:,1:]\n",
    "y_train = y_train.values\n",
    "y_test = y_test.values"
   ]
  },
  {
   "cell_type": "code",
   "execution_count": 5,
   "metadata": {},
   "outputs": [
    {
     "name": "stdout",
     "output_type": "stream",
     "text": [
      "[[  0   3]\n",
      " [  1   1]\n",
      " [  2   3]\n",
      " [  3   2]\n",
      " [  4   3]\n",
      " [  5   1]\n",
      " [  6   2]\n",
      " [  7   1]\n",
      " [  8   2]\n",
      " [  9   2]\n",
      " [ 10   2]\n",
      " [ 11   1]\n",
      " [ 12   3]\n",
      " [ 13   2]\n",
      " [ 14   1]\n",
      " [ 15   1]\n",
      " [ 16   1]\n",
      " [ 17   2]\n",
      " [ 18   3]\n",
      " [ 19   2]\n",
      " [ 20   3]\n",
      " [ 21   3]\n",
      " [ 22   2]\n",
      " [ 23   3]\n",
      " [ 24   3]\n",
      " [ 25   2]\n",
      " [ 26   2]\n",
      " [ 27   1]\n",
      " [ 28   2]\n",
      " [ 29   2]\n",
      " [ 30   3]\n",
      " [ 31   3]\n",
      " [ 32   1]\n",
      " [ 33   2]\n",
      " [ 34   3]\n",
      " [ 35   2]\n",
      " [ 36   1]\n",
      " [ 37   2]\n",
      " [ 38   3]\n",
      " [ 39   3]\n",
      " [ 40   2]\n",
      " [ 41   2]\n",
      " [ 42   1]\n",
      " [ 43   1]\n",
      " [ 44   1]\n",
      " [ 45   3]\n",
      " [ 46   2]\n",
      " [ 47   3]\n",
      " [ 48   1]\n",
      " [ 49   2]\n",
      " [ 50   2]\n",
      " [ 51   3]\n",
      " [ 52   1]\n",
      " [ 53   2]\n",
      " [ 54   2]\n",
      " [ 55   2]\n",
      " [ 56   3]\n",
      " [ 57   1]\n",
      " [ 58   1]\n",
      " [ 59   3]\n",
      " [ 60   2]\n",
      " [ 61   2]\n",
      " [ 62   3]\n",
      " [ 63   1]\n",
      " [ 64   1]\n",
      " [ 65   2]\n",
      " [ 66   3]\n",
      " [ 67   1]\n",
      " [ 68   2]\n",
      " [ 69   1]\n",
      " [ 70   2]\n",
      " [ 71   3]\n",
      " [ 72   2]\n",
      " [ 73   2]\n",
      " [ 74   1]\n",
      " [ 75   2]\n",
      " [ 76   3]\n",
      " [ 77   3]\n",
      " [ 78   1]\n",
      " [ 79   1]\n",
      " [ 80   1]\n",
      " [ 81   1]\n",
      " [ 82   1]\n",
      " [ 83   1]\n",
      " [ 84   1]\n",
      " [ 85   1]\n",
      " [ 86   3]\n",
      " [ 87   3]\n",
      " [ 88   2]\n",
      " [ 89   1]\n",
      " [ 90   2]\n",
      " [ 91   2]\n",
      " [ 92   3]\n",
      " [ 93   3]\n",
      " [ 94   2]\n",
      " [ 95   3]\n",
      " [ 96   1]\n",
      " [ 97   2]\n",
      " [ 98   2]\n",
      " [ 99   2]\n",
      " [100   1]\n",
      " [101   2]\n",
      " [102   2]\n",
      " [103   3]\n",
      " [104   1]\n",
      " [105   2]\n",
      " [106   2]\n",
      " [107   2]\n",
      " [108   2]\n",
      " [109   1]\n",
      " [110   1]\n",
      " [111   2]\n",
      " [112   3]\n",
      " [113   1]\n",
      " [114   2]\n",
      " [115   2]\n",
      " [116   1]\n",
      " [117   1]\n",
      " [118   1]\n",
      " [119   2]\n",
      " [120   2]\n",
      " [121   3]\n",
      " [122   2]\n",
      " [123   3]\n",
      " [124   3]\n",
      " [125   1]\n",
      " [126   1]\n",
      " [127   2]\n",
      " [128   1]\n",
      " [129   2]\n",
      " [130   3]\n",
      " [131   2]\n",
      " [132   1]\n",
      " [133   1]\n",
      " [134   2]\n",
      " [135   2]\n",
      " [136   2]\n",
      " [137   3]\n",
      " [138   1]\n",
      " [139   3]\n",
      " [140   1]\n",
      " [141   3]]\n"
     ]
    }
   ],
   "source": [
    "print(y_train)"
   ]
  },
  {
   "cell_type": "code",
   "execution_count": 6,
   "metadata": {},
   "outputs": [],
   "source": [
    "y_train = y_train[:,1]\n",
    "y_test = y_test[:,1]"
   ]
  },
  {
   "cell_type": "code",
   "execution_count": 7,
   "metadata": {},
   "outputs": [],
   "source": [
    "std = StandardScaler()\n",
    "std.fit(X_train)\n",
    "X_train = std.transform(X_train)\n",
    "X_test = std.transform(X_test)"
   ]
  },
  {
   "cell_type": "code",
   "execution_count": 8,
   "metadata": {},
   "outputs": [
    {
     "name": "stdout",
     "output_type": "stream",
     "text": [
      "[1 2 3]\n"
     ]
    }
   ],
   "source": [
    "#Let's look at the classes\n",
    "cls = np.unique(y_train)\n",
    "print(cls)"
   ]
  },
  {
   "cell_type": "code",
   "execution_count": 9,
   "metadata": {},
   "outputs": [
    {
     "data": {
      "text/plain": [
       "(142, 13)"
      ]
     },
     "execution_count": 9,
     "metadata": {},
     "output_type": "execute_result"
    }
   ],
   "source": [
    "X_train.shape"
   ]
  },
  {
   "cell_type": "code",
   "execution_count": 10,
   "metadata": {},
   "outputs": [],
   "source": [
    "#Let's compute mean vectors\n",
    "mean_vecs = []\n",
    "for c in cls:\n",
    "    c_mean = np.mean(X_train[y_train==c],axis=0) # mean of the features of class c\n",
    "    mean_vecs.append(c_mean)\n",
    "mean_vecs = np.array(mean_vecs) "
   ]
  },
  {
   "cell_type": "code",
   "execution_count": 11,
   "metadata": {},
   "outputs": [
    {
     "data": {
      "text/plain": [
       "array([[ 0.92185301, -0.31372939,  0.31854996, -0.7118766 ,  0.41221338,\n",
       "         0.93923804,  0.9903949 , -0.6073227 ,  0.57479011,  0.21179739,\n",
       "         0.45885282,  0.79758121,  1.16488182],\n",
       "       [-0.92355978, -0.39434794, -0.41726408,  0.24885066, -0.32969332,\n",
       "        -0.14379622,  0.00237287,  0.06719595,  0.04590852, -0.85074206,\n",
       "         0.41455457,  0.2027356 , -0.74630767],\n",
       "       [ 0.24515306,  0.97955562,  0.23190012,  0.50720295, -0.01530289,\n",
       "        -0.94599482, -1.22852142,  0.65036837, -0.77978739,  1.01415316,\n",
       "        -1.18936035, -1.29058543, -0.32131338]])"
      ]
     },
     "execution_count": 11,
     "metadata": {},
     "output_type": "execute_result"
    }
   ],
   "source": [
    "#mean_vecs[m1.T,m2.T,m3.T]\n",
    "mean_vecs"
   ]
  },
  {
   "cell_type": "code",
   "execution_count": 44,
   "metadata": {},
   "outputs": [],
   "source": [
    "#Now let's compute SW\n",
    "#But we have to compute si\n",
    "Sw = np.zeros((13,13),dtype=np.float32)\n",
    "for c in cls:\n",
    "    x =  X_train[y_train==c].reshape(13,-1)\n",
    "    mean_vc = mean_vecs[c-1].reshape(13,1)\n",
    "    n  = x.shape[1] #Normalizing constant\n",
    "    #print(type(x))\n",
    "    Si = (1/n)*(np.dot((x-mean_vc),(x-mean_vc).T))\n",
    "    Sw += Si"
   ]
  },
  {
   "cell_type": "code",
   "execution_count": 45,
   "metadata": {},
   "outputs": [
    {
     "data": {
      "text/plain": [
       "(13, 13)"
      ]
     },
     "execution_count": 45,
     "metadata": {},
     "output_type": "execute_result"
    }
   ],
   "source": [
    "Sw.shape"
   ]
  },
  {
   "cell_type": "code",
   "execution_count": 46,
   "metadata": {},
   "outputs": [],
   "source": [
    "#Now let's compute SB\n",
    "m = np.mean(X_train,axis=0)\n",
    "m = m.reshape(1,13)"
   ]
  },
  {
   "cell_type": "code",
   "execution_count": 47,
   "metadata": {},
   "outputs": [
    {
     "name": "stdout",
     "output_type": "stream",
     "text": [
      "[[-1.18528036e-15 -3.50267546e-16  1.01327397e-15  2.87719770e-16\n",
      "  -4.37834432e-16 -6.25477760e-16  1.00076442e-16  1.87643328e-17\n",
      "   1.56369440e-16  1.75133773e-16  9.88254861e-16  3.75286656e-17\n",
      "   6.25477760e-17]]\n"
     ]
    }
   ],
   "source": [
    "print(m)"
   ]
  },
  {
   "cell_type": "code",
   "execution_count": 61,
   "metadata": {},
   "outputs": [],
   "source": [
    "Sb = 0 \n",
    "for c in cls:\n",
    "    x =  X_train[y_train==c].reshape(13,-1)\n",
    "    n  = x.shape[1] #Normalizing constant\n",
    "    mean_vc = mean_vecs[c-1].reshape(13,1)\n",
    "    #print(type(x))\n",
    "    sbc = n*(np.dot((mean_vc - m),(mean_vc - m).T))    \n",
    "    Sb += sbc"
   ]
  },
  {
   "cell_type": "code",
   "execution_count": 62,
   "metadata": {},
   "outputs": [
    {
     "data": {
      "text/plain": [
       "((13, 13), (13, 13))"
      ]
     },
     "execution_count": 62,
     "metadata": {},
     "output_type": "execute_result"
    }
   ],
   "source": [
    "Si.shape ,Sw.shape"
   ]
  },
  {
   "cell_type": "code",
   "execution_count": 63,
   "metadata": {},
   "outputs": [],
   "source": [
    "#We now have to compute the eigen values and eigen vectors of Sw^(-1)Sb 14X14 matrix\n",
    "Eig_Mat = np.dot(np.linalg.inv(Sw),Sb)"
   ]
  },
  {
   "cell_type": "code",
   "execution_count": 64,
   "metadata": {},
   "outputs": [],
   "source": [
    "eig_vals,eig_vecs = np.linalg.eig(Eig_Mat)"
   ]
  },
  {
   "cell_type": "code",
   "execution_count": 65,
   "metadata": {},
   "outputs": [
    {
     "data": {
      "text/plain": [
       "array([ 1.75945906e+03+0.00000000e+00j, -1.09467990e-13+0.00000000e+00j,\n",
       "        4.62712178e+02+0.00000000e+00j, -2.61022723e-13+0.00000000e+00j,\n",
       "        1.96014146e-13+0.00000000e+00j, -1.15510084e-13+2.46128233e-14j,\n",
       "       -1.15510084e-13-2.46128233e-14j,  7.88046885e-14+0.00000000e+00j,\n",
       "        5.77286029e-14+0.00000000e+00j,  5.87553382e-15+4.47543105e-14j,\n",
       "        5.87553382e-15-4.47543105e-14j, -5.82419491e-14+0.00000000e+00j,\n",
       "       -8.20473988e-15+0.00000000e+00j])"
      ]
     },
     "execution_count": 65,
     "metadata": {},
     "output_type": "execute_result"
    }
   ],
   "source": [
    "eig_vals"
   ]
  },
  {
   "cell_type": "code",
   "execution_count": 66,
   "metadata": {},
   "outputs": [],
   "source": [
    "indices = np.argsort(np.abs(eig_vals))\n",
    "indices_sorted = indices[::-1]"
   ]
  },
  {
   "cell_type": "code",
   "execution_count": 67,
   "metadata": {},
   "outputs": [
    {
     "name": "stdout",
     "output_type": "stream",
     "text": [
      "[0.791774742167344, 0.2082252578326561, -1.1746292048426978e-16, 8.820838966955264e-17, -5.1980730519571335e-17, -5.1980730519571335e-17, -4.9261725862084135e-17, 3.546292347740647e-17, -2.6209478442466662e-17, 2.5978467358441808e-17, 2.6440508836826333e-18, 2.6440508836826333e-18, -3.692217659406632e-18]\n"
     ]
    }
   ],
   "source": [
    "total = sum(eig_vals.real)\n",
    "discr = [(i.real/total) for i in eig_vals[indices_sorted]]\n",
    "cdf_discr = np.cumsum(discr)\n",
    "print(discr)"
   ]
  },
  {
   "cell_type": "code",
   "execution_count": 69,
   "metadata": {},
   "outputs": [
    {
     "data": {
      "image/png": "[encoded data removed]",
      "text/plain": [
       "<Figure size 504x504 with 1 Axes>"
      ]
     },
     "metadata": {
      "needs_background": "light"
     },
     "output_type": "display_data"
    }
   ],
   "source": [
    "#Let's choose 2 eigen vectors for simplicity\n",
    "import matplotlib.pyplot as plt\n",
    "plt.figure(figsize=(7,7))\n",
    "plt.bar(range(1,14),discr,align='center',label = 'Individual discriminability',color='black')\n",
    "plt.step(range(1,14),cdf_discr,where='mid',label ='Cumulative discriminability',linestyle = '--')\n",
    "plt.xlabel('Linear Discriminants')\n",
    "plt.ylabel('\"Discriminability\" ratio')\n",
    "plt.ylim([-0.1, 1.1])\n",
    "plt.legend()\n",
    "plt.tight_layout()\n",
    "plt.show()"
   ]
  },
  {
   "cell_type": "code",
   "execution_count": 70,
   "metadata": {},
   "outputs": [],
   "source": [
    "#LDA via scikit-learn\n",
    "from sklearn.discriminant_analysis import LinearDiscriminantAnalysis as LDA\n",
    "lda = LDA(n_components=2)\n",
    "X_train_lda = lda.fit_transform(X_train,y_train)"
   ]
  },
  {
   "cell_type": "code",
   "execution_count": 71,
   "metadata": {},
   "outputs": [],
   "source": [
    "#Let's plot a scatter plot\n",
    "def plot_scatter(X,y,colors,markers):\n",
    "    plt.figure(figsize=(10,10))\n",
    "    for label,color,mark in zip(np.unique(y_train),colors,markers):\n",
    "        plt.scatter(X[y==label, 0],X[y==label, 1],label=label,c=color,marker=mark)\n",
    "    plt.xlabel('LD1')\n",
    "    plt.ylabel('LD2')\n",
    "    plt.legend()\n",
    "    plt.tight_layout()\n",
    "    plt.show()"
   ]
  },
  {
   "cell_type": "code",
   "execution_count": 59,
   "metadata": {},
   "outputs": [
    {
     "data": {
      "image/png": "[encoded data removed]",
      "text/plain": [
       "<Figure size 720x720 with 1 Axes>"
      ]
     },
     "metadata": {
      "needs_background": "light"
     },
     "output_type": "display_data"
    }
   ],
   "source": [
    "plot_scatter(X_train_lda,y_train,colors=['r','b','g'],markers=['o','s','x'])"
   ]
  },
  {
   "cell_type": "code",
   "execution_count": 60,
   "metadata": {},
   "outputs": [
    {
     "data": {
      "text/plain": [
       "(142, 13)"
      ]
     },
     "execution_count": 60,
     "metadata": {},
     "output_type": "execute_result"
    }
   ],
   "source": [
    "X_train.shape"
   ]
  },
  {
   "cell_type": "code",
   "execution_count": null,
   "metadata": {},
   "outputs": [],
   "source": []
  }
 ],
 "metadata": {
  "kernelspec": {
   "display_name": "Python 3",
   "language": "python",
   "name": "python3"
  },
  "language_info": {
   "codemirror_mode": {
    "name": "ipython",
    "version": 3
   },
   "file_extension": ".py",
   "mimetype": "text/x-python",
   "name": "python",
   "nbconvert_exporter": "python",
   "pygments_lexer": "ipython3",
   "version": "3.7.3"
  }
 },
 "nbformat": 4,
 "nbformat_minor": 2
}
