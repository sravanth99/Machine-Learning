{
 "cells": [
  {
   "cell_type": "markdown",
   "metadata": {},
   "source": [
    "# PCA:\n",
    "<p> PCA is sensitive to scale of the data, so before performing PCA it is important to scale ( standardize) the data.\n",
    "<h1>7 Steps of PCA :</h1>\n",
    "  <li> Standardize the data\n",
    "  <li> Constuct the covariance matrix ( matrix of pair wise covariance of the features)\n",
    "   <p>covariance between two features, x_j and x_k $$\\sigma_{j k}=\\frac{1}{n-1} \\sum_{i=1}^{n}\\left(x_{j}^{(i)}-\\mu_{j}\\right)\\left(x_{k}^{(i)}-\\mu_{k}\\right)$$\n",
    " <p>$$\\text{𝜇𝑗 and 𝜇𝑘 are the sample means of features j and k } $$\n",
    "  Covariance matrix $$\\Sigma=\\left[\\begin{array}{lll}\n",
    "\\sigma_{1}^{2} & \\sigma_{12} & \\sigma_{13} \\\\\n",
    "\\sigma_{21} & \\sigma_{2}^{2} & \\sigma_{23} \\\\\n",
    "\\sigma_{31} & \\sigma_{32} & \\sigma_{3}^{2}\n",
    "\\end{array}\\right]$$\n",
    " An eigenvector,v, satisfies the following condition:\n",
    " $$\\Sigma v=\\lambda v$$\n",
    "<li> Sort the eigen values in the decreasing order to rank the eigen vectors corresponding to them.\n",
    "<li> Select desired 'k' eigen vectors, which corresponds to top k eigen values.\n",
    "<li> Construct a projection matrix W, from the selected k eigen vectors\n",
    "<li> Transform the d-dimensional input dataset X, using W to get new k-dimensional feature space. \n",
    "    $$x W=\\mathbf{x^{'}}$$"
   ]
  },
  {
   "cell_type": "code",
   "execution_count": 1,
   "metadata": {},
   "outputs": [],
   "source": [
    "import pandas as pd\n",
    "import numpy as np\n",
    "from sklearn.preprocessing import StandardScaler"
   ]
  },
  {
   "cell_type": "code",
   "execution_count": 2,
   "metadata": {},
   "outputs": [],
   "source": [
    "# Let's use the wine data note that we already split the data into train and test before\n",
    "X_train = pd.read_csv('X_train_df.csv')\n",
    "X_test  = pd.read_csv('X_test_df.csv')\n",
    "y_train = pd.read_csv('y_train_df.csv')\n",
    "y_test  = pd.read_csv('y_test_df.csv')"
   ]
  },
  {
   "cell_type": "code",
   "execution_count": 3,
   "metadata": {},
   "outputs": [],
   "source": [
    "#Converting to arrays\n",
    "X_train = X_train.values\n",
    "X_test = X_test.values\n",
    "y_train = y_train.values\n",
    "y_test = y_test.values"
   ]
  },
  {
   "cell_type": "code",
   "execution_count": 4,
   "metadata": {},
   "outputs": [],
   "source": [
    "y_train = y_train[:,1]\n",
    "y_test = y_test[:,1]"
   ]
  },
  {
   "cell_type": "code",
   "execution_count": 5,
   "metadata": {},
   "outputs": [],
   "source": [
    "std = StandardScaler()\n",
    "std.fit(X_train)\n",
    "X_train = std.transform(X_train)\n",
    "X_test = std.transform(X_test)"
   ]
  },
  {
   "cell_type": "code",
   "execution_count": 6,
   "metadata": {},
   "outputs": [],
   "source": [
    "covar_mat = np.cov(X_train.T)\n",
    "eig_vals,eig_vecs = np.linalg.eig(covar_mat)"
   ]
  },
  {
   "cell_type": "code",
   "execution_count": 7,
   "metadata": {},
   "outputs": [
    {
     "name": "stdout",
     "output_type": "stream",
     "text": [
      "Eigen Values : [4.72137798 2.56971933 1.53768883 1.05942142 0.91060705 0.79490072\n",
      " 0.60392985 0.52685195 0.10050614 0.34911818 0.16704767 0.22311132\n",
      " 0.26011637 0.27489395]\n"
     ]
    }
   ],
   "source": [
    "print(\"Eigen Values :\", eig_vals)"
   ]
  },
  {
   "cell_type": "code",
   "execution_count": 8,
   "metadata": {},
   "outputs": [
    {
     "name": "stdout",
     "output_type": "stream",
     "text": [
      "[0.10050614 0.16704767 0.22311132 0.26011637 0.27489395 0.34911818\n",
      " 0.52685195 0.60392985 0.79490072 0.91060705 1.05942142 1.53768883\n",
      " 2.56971933 4.72137798]\n"
     ]
    }
   ],
   "source": [
    "#let's sort these eigen values\n",
    "indices = np.argsort(np.abs(eig_vals))\n",
    "print(eig_vals[indices])"
   ]
  },
  {
   "cell_type": "code",
   "execution_count": 9,
   "metadata": {},
   "outputs": [
    {
     "data": {
      "text/plain": [
       "(14, 14)"
      ]
     },
     "execution_count": 9,
     "metadata": {},
     "output_type": "execute_result"
    }
   ],
   "source": [
    "eig_vecs.shape"
   ]
  },
  {
   "cell_type": "code",
   "execution_count": 10,
   "metadata": {},
   "outputs": [
    {
     "name": "stdout",
     "output_type": "stream",
     "text": [
      "[4.72137798 2.56971933 1.53768883 1.05942142 0.91060705 0.79490072\n",
      " 0.60392985 0.52685195 0.34911818 0.27489395 0.26011637 0.22311132\n",
      " 0.16704767 0.10050614]\n"
     ]
    }
   ],
   "source": [
    "#we got ascending order but we want descending order.\n",
    "indices_ordered = indices[::-1]\n",
    "print(eig_vals[indices_ordered])"
   ]
  },
  {
   "cell_type": "markdown",
   "metadata": {},
   "source": [
    "# Explained covariance or( 1- information loss) :\n",
    "$$\\text { Explained variance ratio }=\\frac{\\lambda_{j}}{\\sum_{j=1}^{d} \\lambda_{j}}$$"
   ]
  },
  {
   "cell_type": "code",
   "execution_count": 11,
   "metadata": {},
   "outputs": [],
   "source": [
    "total = sum(eig_vals) #sum of eigen vectors\n",
    "var_explained = [(i/total) for i in eig_vals[indices_ordered]]\n",
    "cdf_var = np.cumsum(var_explained) #cummulative sum of variance explained."
   ]
  },
  {
   "cell_type": "code",
   "execution_count": 12,
   "metadata": {},
   "outputs": [
    {
     "data": {
      "text/plain": [
       "<Figure size 700x700 with 1 Axes>"
      ]
     },
     "metadata": {},
     "output_type": "display_data"
    }
   ],
   "source": [
    "import matplotlib.pyplot as plt\n",
    "plt.figure(figsize=(7,7))\n",
    "plt.bar(range(1,15),var_explained,align='center',label = 'Individual explained variances',color='black')\n",
    "plt.step(range(1,15),cdf_var,where='mid',label ='Cumulative explained variance',linestyle = '--')\n",
    "plt.axhline(0.9,color='black',linestyle=':')\n",
    "plt.axvline(8,color='black',linestyle=':')\n",
    "plt.xlabel('Principal component index')\n",
    "plt.ylabel('Explained variance ratio')\n",
    "plt.legend()\n",
    "plt.tight_layout()\n",
    "plt.show()"
   ]
  },
  {
   "cell_type": "code",
   "execution_count": 15,
   "metadata": {},
   "outputs": [],
   "source": [
    "eig_vecs_tr = eig_vecs.T"
   ]
  },
  {
   "cell_type": "code",
   "execution_count": 26,
   "metadata": {},
   "outputs": [],
   "source": [
    "# from figure we can see that we'll get 90% of the info if project our data on to first 8 principal components\n",
    "# To visualize let's just consider only 2 principal componets.\n",
    "# so our transformation matrix is dX2 matrix"
   ]
  },
  {
   "cell_type": "code",
   "execution_count": 19,
   "metadata": {},
   "outputs": [],
   "source": [
    "W = np.hstack((eig_vecs_tr[indices_ordered[0]][:,np.newaxis],eig_vecs_tr[indices_ordered[1]][:,np.newaxis]))"
   ]
  },
  {
   "cell_type": "code",
   "execution_count": 20,
   "metadata": {},
   "outputs": [
    {
     "data": {
      "text/plain": [
       "(14, 2)"
      ]
     },
     "execution_count": 20,
     "metadata": {},
     "output_type": "execute_result"
    }
   ],
   "source": [
    "W.shape"
   ]
  },
  {
   "cell_type": "code",
   "execution_count": 21,
   "metadata": {},
   "outputs": [],
   "source": [
    "#Now let's transform entire train set using W\n",
    "X_pca_train = X_train.dot(W)"
   ]
  },
  {
   "cell_type": "code",
   "execution_count": 22,
   "metadata": {},
   "outputs": [
    {
     "data": {
      "text/plain": [
       "(142, 2)"
      ]
     },
     "execution_count": 22,
     "metadata": {},
     "output_type": "execute_result"
    }
   ],
   "source": [
    "X_pca_train.shape"
   ]
  },
  {
   "cell_type": "code",
   "execution_count": 23,
   "metadata": {},
   "outputs": [],
   "source": [
    "#Our transformed training set has 2 features # from plot u can see that almost 50% info is retrieved just by combing 1st 2 pcs\n",
    "#Let's plot a scatter plot\n",
    "def plot_scatter(X,y,colors,markers):\n",
    "\n",
    "    for label,color,mark in zip(np.unique(y_train),colors,markers):\n",
    "        plt.scatter(X[y==label, 0],X[y==label, 1],label=label,c=color,marker=mark)\n",
    "    plt.xlabel('PC1')\n",
    "    plt.ylabel('PC2')\n",
    "    plt.legend()\n",
    "    plt.tight_layout()\n",
    "    plt.show()"
   ]
  },
  {
   "cell_type": "code",
   "execution_count": 24,
   "metadata": {},
   "outputs": [
    {
     "data": {
      "image/png": "[encoded data removed]",
      "text/plain": [
       "<Figure size 432x288 with 1 Axes>"
      ]
     },
     "metadata": {
      "needs_background": "light"
     },
     "output_type": "display_data"
    }
   ],
   "source": [
    "plot_scatter(X_pca_train,y_train,colors=['r','b','g'],markers=['o','s','x'])"
   ]
  },
  {
   "cell_type": "markdown",
   "metadata": {},
   "source": [
    "# Using ScikitLearn to implement PCA:"
   ]
  },
  {
   "cell_type": "code",
   "execution_count": 25,
   "metadata": {},
   "outputs": [
    {
     "data": {
      "image/png": "[encoded data removed]",
      "text/plain": [
       "<Figure size 432x288 with 1 Axes>"
      ]
     },
     "metadata": {
      "needs_background": "light"
     },
     "output_type": "display_data"
    }
   ],
   "source": [
    "from sklearn.decomposition import PCA\n",
    "pca = PCA(n_components=2)\n",
    "X_tr_pca = pca.fit_transform(X_train)\n",
    "plot_scatter(X_tr_pca,y_train,colors=['r','b','g'],markers=['o','s','x'])"
   ]
  },
  {
   "cell_type": "code",
   "execution_count": null,
   "metadata": {},
   "outputs": [],
   "source": []
  }
 ],
 "metadata": {
  "kernelspec": {
   "display_name": "Python 3",
   "language": "python",
   "name": "python3"
  },
  "language_info": {
   "codemirror_mode": {
    "name": "ipython",
    "version": 3
   },
   "file_extension": ".py",
   "mimetype": "text/x-python",
   "name": "python",
   "nbconvert_exporter": "python",
   "pygments_lexer": "ipython3",
   "version": "3.7.3"
  }
 },
 "nbformat": 4,
 "nbformat_minor": 2
}
